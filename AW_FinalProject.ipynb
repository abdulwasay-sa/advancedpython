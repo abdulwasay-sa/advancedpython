{
 "cells": [
  {
   "cell_type": "code",
   "execution_count": 13,
   "metadata": {},
   "outputs": [
    {
     "name": "stdout",
     "output_type": "stream",
     "text": [
      "Requirement already satisfied: openpyxl in c:\\users\\abdul.wasay\\anaconda3\\lib\\site-packages (3.0.5)Note: you may need to restart the kernel to use updated packages.\n",
      "Requirement already satisfied: jdcal in c:\\users\\abdul.wasay\\anaconda3\\lib\\site-packages (from openpyxl) (1.4.1)\n",
      "Requirement already satisfied: et-xmlfile in c:\\users\\abdul.wasay\\anaconda3\\lib\\site-packages (from openpyxl) (1.0.1)\n",
      "\n"
     ]
    }
   ],
   "source": [
    "pip install openpyxl #Requirement already satisfied: openpyxl in c:\\users\\abdul.wasay\\anaconda3\\lib\\site-packages"
   ]
  },
  {
   "cell_type": "code",
   "execution_count": 1,
   "metadata": {},
   "outputs": [],
   "source": [
    "import numpy as py\n",
    "import pandas as pd\n",
    "import openpyxl as xl\n",
    "from openpyxl.chart import BarChart,Reference"
   ]
  },
  {
   "cell_type": "code",
   "execution_count": 2,
   "metadata": {},
   "outputs": [],
   "source": [
    "wb = xl.load_workbook('ItemPrice.xlsx')\n",
    "sheet = wb['Sheet1']\n",
    "cell = sheet['A1']"
   ]
  },
  {
   "cell_type": "code",
   "execution_count": 3,
   "metadata": {},
   "outputs": [],
   "source": [
    "for row in range(2, sheet.max_row + 1):\n",
    "    cell = sheet.cell(row,2)\n",
    "    # print(cell.value * 0.9)\n",
    "    #corrected_price = cell.value * 0.9\n",
    "    #corrected_price_cell = sheet.cell(row,3)\n",
    "    #corrected_price_cell.value = corrected_price\n",
    "    Discount_Amt = cell.value * 0.1 # Purchase_Price less 10% discount\n",
    "    Discount_Amt_cell = sheet.cell(row,3)\n",
    "    Discount_Amt_cell.value = Discount_Amt \n",
    "    #cell = sheet.cell(row, 4)\n",
    "    corrected_price = cell.value * 0.9 # Purchase_Price times 90% \n",
    "    corrected_price_cell = sheet.cell(row, 4)\n",
    "    corrected_price_cell.value = corrected_price"
   ]
  },
  {
   "cell_type": "code",
   "execution_count": 10,
   "metadata": {},
   "outputs": [],
   "source": [
    "sheet.cell(1,3).value =\"Discounted Amt\""
   ]
  },
  {
   "cell_type": "code",
   "execution_count": 11,
   "metadata": {},
   "outputs": [],
   "source": [
    "sheet.cell(1,3).value =\"Corrected Amt\""
   ]
  },
  {
   "cell_type": "code",
   "execution_count": 12,
   "metadata": {},
   "outputs": [],
   "source": [
    "values = Reference(sheet,min_row=2,\n",
    "          max_row=sheet.max_row,\n",
    "          min_col=2,\n",
    "          max_col=4)"
   ]
  },
  {
   "cell_type": "code",
   "execution_count": 13,
   "metadata": {},
   "outputs": [],
   "source": [
    "chart = BarChart()"
   ]
  },
  {
   "cell_type": "code",
   "execution_count": 14,
   "metadata": {},
   "outputs": [],
   "source": [
    "chart.add_data(values)"
   ]
  },
  {
   "cell_type": "code",
   "execution_count": 15,
   "metadata": {},
   "outputs": [],
   "source": [
    "sheet.add_chart(chart,'e2')"
   ]
  },
  {
   "cell_type": "code",
   "execution_count": 16,
   "metadata": {},
   "outputs": [],
   "source": [
    "wb.save('corrected_ItemPrice.xlsx')"
   ]
  },
  {
   "cell_type": "code",
   "execution_count": null,
   "metadata": {},
   "outputs": [],
   "source": []
  }
 ],
 "metadata": {
  "kernelspec": {
   "display_name": "Python 3",
   "language": "python",
   "name": "python3"
  },
  "language_info": {
   "codemirror_mode": {
    "name": "ipython",
    "version": 3
   },
   "file_extension": ".py",
   "mimetype": "text/x-python",
   "name": "python",
   "nbconvert_exporter": "python",
   "pygments_lexer": "ipython3",
   "version": "3.8.5"
  }
 },
 "nbformat": 4,
 "nbformat_minor": 4
}
